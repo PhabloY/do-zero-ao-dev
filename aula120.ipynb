{
 "cells": [
  {
   "cell_type": "markdown",
   "id": "1e9da6ab-4e60-4b65-b449-fc7de28563fa",
   "metadata": {},
   "source": [
    "# Aula 120\n",
    "Essa linha cria uma variavel `a` ."
   ]
  },
  {
   "cell_type": "code",
   "execution_count": 1,
   "id": "ce76a2aa-a992-4688-a05d-96a5d1386ea1",
   "metadata": {},
   "outputs": [],
   "source": [
    "a = 2"
   ]
  },
  {
   "cell_type": "code",
   "execution_count": 2,
   "id": "29e8a5d8-1088-4a8d-93c8-9bb0d4faccf5",
   "metadata": {},
   "outputs": [
    {
     "data": {
      "text/plain": [
       "2"
      ]
     },
     "execution_count": 2,
     "metadata": {},
     "output_type": "execute_result"
    }
   ],
   "source": [
    "a"
   ]
  },
  {
   "cell_type": "markdown",
   "id": "742cb52e-d4aa-459e-bbba-484759dc770d",
   "metadata": {},
   "source": [
    "Essa linha tem o valor da variável `a` em dobro"
   ]
  },
  {
   "cell_type": "code",
   "execution_count": 6,
   "id": "3d7e2724-261f-4ffa-80a1-ee9d98ba2b15",
   "metadata": {},
   "outputs": [],
   "source": [
    "b = a * 2"
   ]
  },
  {
   "cell_type": "code",
   "execution_count": 7,
   "id": "53af217b-655b-4348-b2a3-898cde22a013",
   "metadata": {},
   "outputs": [
    {
     "data": {
      "text/plain": [
       "4"
      ]
     },
     "execution_count": 7,
     "metadata": {},
     "output_type": "execute_result"
    }
   ],
   "source": [
    "b"
   ]
  },
  {
   "cell_type": "markdown",
   "id": "b5570eb1-4a77-44e5-bd59-900fbffff20d",
   "metadata": {},
   "source": [
    "Essa linha mostra o valor de `a` + `b`"
   ]
  },
  {
   "cell_type": "code",
   "execution_count": 8,
   "id": "7411fc10-179f-4f08-b6a9-15a98e39e188",
   "metadata": {},
   "outputs": [
    {
     "name": "stdout",
     "output_type": "stream",
     "text": [
      "6\n"
     ]
    }
   ],
   "source": [
    "print(a + b)"
   ]
  },
  {
   "cell_type": "code",
   "execution_count": null,
   "id": "ffcf6d07-86d7-4684-b595-bac6af09709f",
   "metadata": {},
   "outputs": [],
   "source": []
  }
 ],
 "metadata": {
  "kernelspec": {
   "display_name": "Python 3 (ipykernel)",
   "language": "python",
   "name": "python3"
  },
  "language_info": {
   "codemirror_mode": {
    "name": "ipython",
    "version": 3
   },
   "file_extension": ".py",
   "mimetype": "text/x-python",
   "name": "python",
   "nbconvert_exporter": "python",
   "pygments_lexer": "ipython3",
   "version": "3.13.0"
  }
 },
 "nbformat": 4,
 "nbformat_minor": 5
}
